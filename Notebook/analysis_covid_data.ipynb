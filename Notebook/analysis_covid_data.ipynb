{
 "cells": [
  {
   "cell_type": "markdown",
   "metadata": {},
   "source": [
    "# Some simple plot exercise\n",
    "\n",
    "We use the data available from the website [our world in data](https://ourworldindata.org/coronavirus-data-explorer) and try to explore plot functionalities using python libraries\n",
    "\n",
    "\n",
    "    \n",
    "    "
   ]
  },
  {
   "cell_type": "code",
   "execution_count": 74,
   "metadata": {},
   "outputs": [],
   "source": [
    "# First: useful for analyzing datasets, read CSV, EXCEL,...\n",
    "import pandas as pd\n",
    "import seaborn as sns\n",
    "import numpy as np\n",
    "import matplotlib.pyplot as plt "
   ]
  },
  {
   "cell_type": "markdown",
   "metadata": {},
   "source": [
    "# Prelimiaries\n",
    "\n",
    "We read the file downloaded from the git repository into a `pandas` object. There are two datasets, \n",
    "\n",
    "- `full_data`: it contains, for each country, the numbers updated every dat\n",
    "- `latest_data`: it contains only one entry per country, with latest data and general info"
   ]
  },
  {
   "cell_type": "code",
   "execution_count": 75,
   "metadata": {},
   "outputs": [
    {
     "data": {
      "text/html": [
       "<div>\n",
       "<style scoped>\n",
       "    .dataframe tbody tr th:only-of-type {\n",
       "        vertical-align: middle;\n",
       "    }\n",
       "\n",
       "    .dataframe tbody tr th {\n",
       "        vertical-align: top;\n",
       "    }\n",
       "\n",
       "    .dataframe thead th {\n",
       "        text-align: right;\n",
       "    }\n",
       "</style>\n",
       "<table border=\"1\" class=\"dataframe\">\n",
       "  <thead>\n",
       "    <tr style=\"text-align: right;\">\n",
       "      <th></th>\n",
       "      <th>date</th>\n",
       "      <th>location</th>\n",
       "      <th>new_cases</th>\n",
       "      <th>new_deaths</th>\n",
       "      <th>total_cases</th>\n",
       "      <th>total_deaths</th>\n",
       "      <th>weekly_cases</th>\n",
       "      <th>weekly_deaths</th>\n",
       "      <th>biweekly_cases</th>\n",
       "      <th>biweekly_deaths</th>\n",
       "    </tr>\n",
       "  </thead>\n",
       "  <tbody>\n",
       "    <tr>\n",
       "      <th>0</th>\n",
       "      <td>2020-02-24</td>\n",
       "      <td>Afghanistan</td>\n",
       "      <td>1.0</td>\n",
       "      <td>NaN</td>\n",
       "      <td>1.0</td>\n",
       "      <td>NaN</td>\n",
       "      <td>NaN</td>\n",
       "      <td>NaN</td>\n",
       "      <td>NaN</td>\n",
       "      <td>NaN</td>\n",
       "    </tr>\n",
       "    <tr>\n",
       "      <th>1</th>\n",
       "      <td>2020-02-25</td>\n",
       "      <td>Afghanistan</td>\n",
       "      <td>0.0</td>\n",
       "      <td>NaN</td>\n",
       "      <td>1.0</td>\n",
       "      <td>NaN</td>\n",
       "      <td>NaN</td>\n",
       "      <td>NaN</td>\n",
       "      <td>NaN</td>\n",
       "      <td>NaN</td>\n",
       "    </tr>\n",
       "    <tr>\n",
       "      <th>2</th>\n",
       "      <td>2020-02-26</td>\n",
       "      <td>Afghanistan</td>\n",
       "      <td>0.0</td>\n",
       "      <td>NaN</td>\n",
       "      <td>1.0</td>\n",
       "      <td>NaN</td>\n",
       "      <td>NaN</td>\n",
       "      <td>NaN</td>\n",
       "      <td>NaN</td>\n",
       "      <td>NaN</td>\n",
       "    </tr>\n",
       "    <tr>\n",
       "      <th>3</th>\n",
       "      <td>2020-02-27</td>\n",
       "      <td>Afghanistan</td>\n",
       "      <td>0.0</td>\n",
       "      <td>NaN</td>\n",
       "      <td>1.0</td>\n",
       "      <td>NaN</td>\n",
       "      <td>NaN</td>\n",
       "      <td>NaN</td>\n",
       "      <td>NaN</td>\n",
       "      <td>NaN</td>\n",
       "    </tr>\n",
       "    <tr>\n",
       "      <th>4</th>\n",
       "      <td>2020-02-28</td>\n",
       "      <td>Afghanistan</td>\n",
       "      <td>0.0</td>\n",
       "      <td>NaN</td>\n",
       "      <td>1.0</td>\n",
       "      <td>NaN</td>\n",
       "      <td>NaN</td>\n",
       "      <td>NaN</td>\n",
       "      <td>NaN</td>\n",
       "      <td>NaN</td>\n",
       "    </tr>\n",
       "  </tbody>\n",
       "</table>\n",
       "</div>"
      ],
      "text/plain": [
       "         date     location  new_cases  new_deaths  total_cases  total_deaths  \\\n",
       "0  2020-02-24  Afghanistan        1.0         NaN          1.0           NaN   \n",
       "1  2020-02-25  Afghanistan        0.0         NaN          1.0           NaN   \n",
       "2  2020-02-26  Afghanistan        0.0         NaN          1.0           NaN   \n",
       "3  2020-02-27  Afghanistan        0.0         NaN          1.0           NaN   \n",
       "4  2020-02-28  Afghanistan        0.0         NaN          1.0           NaN   \n",
       "\n",
       "   weekly_cases  weekly_deaths  biweekly_cases  biweekly_deaths  \n",
       "0           NaN            NaN             NaN              NaN  \n",
       "1           NaN            NaN             NaN              NaN  \n",
       "2           NaN            NaN             NaN              NaN  \n",
       "3           NaN            NaN             NaN              NaN  \n",
       "4           NaN            NaN             NaN              NaN  "
      ]
     },
     "execution_count": 75,
     "metadata": {},
     "output_type": "execute_result"
    }
   ],
   "source": [
    "filepath = '/Users/caiazzo/HEDERA/CODES/python-seminar-elgouna/full_data.csv'\n",
    "full_data = pd.read_csv(filepath)\n",
    "\n",
    "# have a look at the structure\n",
    "full_data.head()"
   ]
  },
  {
   "cell_type": "markdown",
   "metadata": {},
   "source": [
    "For example, let's get only data relevant for germany:"
   ]
  },
  {
   "cell_type": "code",
   "execution_count": 76,
   "metadata": {},
   "outputs": [],
   "source": [
    "# \n",
    "# filter the dataset according to location = \"Germany\"\n",
    "germany = full_data.loc[ full_data['location']==\"Germany\"  ]"
   ]
  },
  {
   "cell_type": "code",
   "execution_count": 77,
   "metadata": {},
   "outputs": [
    {
     "data": {
      "text/html": [
       "<div>\n",
       "<style scoped>\n",
       "    .dataframe tbody tr th:only-of-type {\n",
       "        vertical-align: middle;\n",
       "    }\n",
       "\n",
       "    .dataframe tbody tr th {\n",
       "        vertical-align: top;\n",
       "    }\n",
       "\n",
       "    .dataframe thead th {\n",
       "        text-align: right;\n",
       "    }\n",
       "</style>\n",
       "<table border=\"1\" class=\"dataframe\">\n",
       "  <thead>\n",
       "    <tr style=\"text-align: right;\">\n",
       "      <th></th>\n",
       "      <th>date</th>\n",
       "      <th>location</th>\n",
       "      <th>new_cases</th>\n",
       "      <th>new_deaths</th>\n",
       "      <th>total_cases</th>\n",
       "      <th>total_deaths</th>\n",
       "      <th>weekly_cases</th>\n",
       "      <th>weekly_deaths</th>\n",
       "      <th>biweekly_cases</th>\n",
       "      <th>biweekly_deaths</th>\n",
       "    </tr>\n",
       "  </thead>\n",
       "  <tbody>\n",
       "    <tr>\n",
       "      <th>27212</th>\n",
       "      <td>2020-01-27</td>\n",
       "      <td>Germany</td>\n",
       "      <td>1.0</td>\n",
       "      <td>NaN</td>\n",
       "      <td>1.0</td>\n",
       "      <td>NaN</td>\n",
       "      <td>NaN</td>\n",
       "      <td>NaN</td>\n",
       "      <td>NaN</td>\n",
       "      <td>NaN</td>\n",
       "    </tr>\n",
       "    <tr>\n",
       "      <th>27213</th>\n",
       "      <td>2020-01-28</td>\n",
       "      <td>Germany</td>\n",
       "      <td>3.0</td>\n",
       "      <td>NaN</td>\n",
       "      <td>4.0</td>\n",
       "      <td>NaN</td>\n",
       "      <td>NaN</td>\n",
       "      <td>NaN</td>\n",
       "      <td>NaN</td>\n",
       "      <td>NaN</td>\n",
       "    </tr>\n",
       "    <tr>\n",
       "      <th>27214</th>\n",
       "      <td>2020-01-29</td>\n",
       "      <td>Germany</td>\n",
       "      <td>0.0</td>\n",
       "      <td>NaN</td>\n",
       "      <td>4.0</td>\n",
       "      <td>NaN</td>\n",
       "      <td>NaN</td>\n",
       "      <td>NaN</td>\n",
       "      <td>NaN</td>\n",
       "      <td>NaN</td>\n",
       "    </tr>\n",
       "    <tr>\n",
       "      <th>27215</th>\n",
       "      <td>2020-01-30</td>\n",
       "      <td>Germany</td>\n",
       "      <td>0.0</td>\n",
       "      <td>NaN</td>\n",
       "      <td>4.0</td>\n",
       "      <td>NaN</td>\n",
       "      <td>NaN</td>\n",
       "      <td>NaN</td>\n",
       "      <td>NaN</td>\n",
       "      <td>NaN</td>\n",
       "    </tr>\n",
       "    <tr>\n",
       "      <th>27216</th>\n",
       "      <td>2020-01-31</td>\n",
       "      <td>Germany</td>\n",
       "      <td>1.0</td>\n",
       "      <td>NaN</td>\n",
       "      <td>5.0</td>\n",
       "      <td>NaN</td>\n",
       "      <td>NaN</td>\n",
       "      <td>NaN</td>\n",
       "      <td>NaN</td>\n",
       "      <td>NaN</td>\n",
       "    </tr>\n",
       "  </tbody>\n",
       "</table>\n",
       "</div>"
      ],
      "text/plain": [
       "             date location  new_cases  new_deaths  total_cases  total_deaths  \\\n",
       "27212  2020-01-27  Germany        1.0         NaN          1.0           NaN   \n",
       "27213  2020-01-28  Germany        3.0         NaN          4.0           NaN   \n",
       "27214  2020-01-29  Germany        0.0         NaN          4.0           NaN   \n",
       "27215  2020-01-30  Germany        0.0         NaN          4.0           NaN   \n",
       "27216  2020-01-31  Germany        1.0         NaN          5.0           NaN   \n",
       "\n",
       "       weekly_cases  weekly_deaths  biweekly_cases  biweekly_deaths  \n",
       "27212           NaN            NaN             NaN              NaN  \n",
       "27213           NaN            NaN             NaN              NaN  \n",
       "27214           NaN            NaN             NaN              NaN  \n",
       "27215           NaN            NaN             NaN              NaN  \n",
       "27216           NaN            NaN             NaN              NaN  "
      ]
     },
     "execution_count": 77,
     "metadata": {},
     "output_type": "execute_result"
    }
   ],
   "source": [
    "germany.head()"
   ]
  },
  {
   "cell_type": "markdown",
   "metadata": {},
   "source": [
    "Read the `latest_data` set"
   ]
  },
  {
   "cell_type": "code",
   "execution_count": 78,
   "metadata": {},
   "outputs": [],
   "source": [
    "filepath_latest_data = '/Users/caiazzo/HEDERA/CODES/python-seminar-elgouna/owid-covid-latest.xlsx'\n",
    "latest_data = pd.read_excel(filepath_latest_data)"
   ]
  },
  {
   "cell_type": "code",
   "execution_count": 79,
   "metadata": {},
   "outputs": [
    {
     "data": {
      "text/html": [
       "<div>\n",
       "<style scoped>\n",
       "    .dataframe tbody tr th:only-of-type {\n",
       "        vertical-align: middle;\n",
       "    }\n",
       "\n",
       "    .dataframe tbody tr th {\n",
       "        vertical-align: top;\n",
       "    }\n",
       "\n",
       "    .dataframe thead th {\n",
       "        text-align: right;\n",
       "    }\n",
       "</style>\n",
       "<table border=\"1\" class=\"dataframe\">\n",
       "  <thead>\n",
       "    <tr style=\"text-align: right;\">\n",
       "      <th></th>\n",
       "      <th>iso_code</th>\n",
       "      <th>continent</th>\n",
       "      <th>location</th>\n",
       "      <th>last_updated_date</th>\n",
       "      <th>total_cases</th>\n",
       "      <th>new_cases</th>\n",
       "      <th>new_cases_smoothed</th>\n",
       "      <th>total_deaths</th>\n",
       "      <th>new_deaths</th>\n",
       "      <th>new_deaths_smoothed</th>\n",
       "      <th>...</th>\n",
       "      <th>gdp_per_capita</th>\n",
       "      <th>extreme_poverty</th>\n",
       "      <th>cardiovasc_death_rate</th>\n",
       "      <th>diabetes_prevalence</th>\n",
       "      <th>female_smokers</th>\n",
       "      <th>male_smokers</th>\n",
       "      <th>handwashing_facilities</th>\n",
       "      <th>hospital_beds_per_thousand</th>\n",
       "      <th>life_expectancy</th>\n",
       "      <th>human_development_index</th>\n",
       "    </tr>\n",
       "  </thead>\n",
       "  <tbody>\n",
       "    <tr>\n",
       "      <th>0</th>\n",
       "      <td>AFG</td>\n",
       "      <td>Asia</td>\n",
       "      <td>Afghanistan</td>\n",
       "      <td>2021-04-06</td>\n",
       "      <td>56779.0</td>\n",
       "      <td>62.0</td>\n",
       "      <td>56.429</td>\n",
       "      <td>2512.0</td>\n",
       "      <td>4.0</td>\n",
       "      <td>5.143</td>\n",
       "      <td>...</td>\n",
       "      <td>1803.987</td>\n",
       "      <td>NaN</td>\n",
       "      <td>597.029</td>\n",
       "      <td>9.59</td>\n",
       "      <td>NaN</td>\n",
       "      <td>NaN</td>\n",
       "      <td>37.746</td>\n",
       "      <td>0.50</td>\n",
       "      <td>64.83</td>\n",
       "      <td>0.511</td>\n",
       "    </tr>\n",
       "    <tr>\n",
       "      <th>1</th>\n",
       "      <td>OWID_AFR</td>\n",
       "      <td>NaN</td>\n",
       "      <td>Africa</td>\n",
       "      <td>2021-04-06</td>\n",
       "      <td>4289749.0</td>\n",
       "      <td>9576.0</td>\n",
       "      <td>12169.714</td>\n",
       "      <td>114319.0</td>\n",
       "      <td>236.0</td>\n",
       "      <td>259.571</td>\n",
       "      <td>...</td>\n",
       "      <td>NaN</td>\n",
       "      <td>NaN</td>\n",
       "      <td>NaN</td>\n",
       "      <td>NaN</td>\n",
       "      <td>NaN</td>\n",
       "      <td>NaN</td>\n",
       "      <td>NaN</td>\n",
       "      <td>NaN</td>\n",
       "      <td>NaN</td>\n",
       "      <td>NaN</td>\n",
       "    </tr>\n",
       "    <tr>\n",
       "      <th>2</th>\n",
       "      <td>ALB</td>\n",
       "      <td>Europe</td>\n",
       "      <td>Albania</td>\n",
       "      <td>2021-04-06</td>\n",
       "      <td>126936.0</td>\n",
       "      <td>141.0</td>\n",
       "      <td>316.143</td>\n",
       "      <td>2283.0</td>\n",
       "      <td>9.0</td>\n",
       "      <td>8.000</td>\n",
       "      <td>...</td>\n",
       "      <td>11803.431</td>\n",
       "      <td>1.1</td>\n",
       "      <td>304.195</td>\n",
       "      <td>10.08</td>\n",
       "      <td>7.1</td>\n",
       "      <td>51.2</td>\n",
       "      <td>NaN</td>\n",
       "      <td>2.89</td>\n",
       "      <td>78.57</td>\n",
       "      <td>0.795</td>\n",
       "    </tr>\n",
       "    <tr>\n",
       "      <th>3</th>\n",
       "      <td>DZA</td>\n",
       "      <td>Africa</td>\n",
       "      <td>Algeria</td>\n",
       "      <td>2021-04-06</td>\n",
       "      <td>117879.0</td>\n",
       "      <td>140.0</td>\n",
       "      <td>116.857</td>\n",
       "      <td>3112.0</td>\n",
       "      <td>4.0</td>\n",
       "      <td>3.286</td>\n",
       "      <td>...</td>\n",
       "      <td>13913.839</td>\n",
       "      <td>0.5</td>\n",
       "      <td>278.364</td>\n",
       "      <td>6.73</td>\n",
       "      <td>0.7</td>\n",
       "      <td>30.4</td>\n",
       "      <td>83.741</td>\n",
       "      <td>1.90</td>\n",
       "      <td>76.88</td>\n",
       "      <td>0.748</td>\n",
       "    </tr>\n",
       "    <tr>\n",
       "      <th>4</th>\n",
       "      <td>AND</td>\n",
       "      <td>Europe</td>\n",
       "      <td>Andorra</td>\n",
       "      <td>2021-04-06</td>\n",
       "      <td>12328.0</td>\n",
       "      <td>42.0</td>\n",
       "      <td>54.857</td>\n",
       "      <td>117.0</td>\n",
       "      <td>0.0</td>\n",
       "      <td>0.286</td>\n",
       "      <td>...</td>\n",
       "      <td>NaN</td>\n",
       "      <td>NaN</td>\n",
       "      <td>109.135</td>\n",
       "      <td>7.97</td>\n",
       "      <td>29.0</td>\n",
       "      <td>37.8</td>\n",
       "      <td>NaN</td>\n",
       "      <td>NaN</td>\n",
       "      <td>83.73</td>\n",
       "      <td>0.868</td>\n",
       "    </tr>\n",
       "  </tbody>\n",
       "</table>\n",
       "<p>5 rows × 59 columns</p>\n",
       "</div>"
      ],
      "text/plain": [
       "   iso_code continent     location last_updated_date  total_cases  new_cases  \\\n",
       "0       AFG      Asia  Afghanistan        2021-04-06      56779.0       62.0   \n",
       "1  OWID_AFR       NaN       Africa        2021-04-06    4289749.0     9576.0   \n",
       "2       ALB    Europe      Albania        2021-04-06     126936.0      141.0   \n",
       "3       DZA    Africa      Algeria        2021-04-06     117879.0      140.0   \n",
       "4       AND    Europe      Andorra        2021-04-06      12328.0       42.0   \n",
       "\n",
       "   new_cases_smoothed  total_deaths  new_deaths  new_deaths_smoothed  ...  \\\n",
       "0              56.429        2512.0         4.0                5.143  ...   \n",
       "1           12169.714      114319.0       236.0              259.571  ...   \n",
       "2             316.143        2283.0         9.0                8.000  ...   \n",
       "3             116.857        3112.0         4.0                3.286  ...   \n",
       "4              54.857         117.0         0.0                0.286  ...   \n",
       "\n",
       "   gdp_per_capita  extreme_poverty  cardiovasc_death_rate  \\\n",
       "0        1803.987              NaN                597.029   \n",
       "1             NaN              NaN                    NaN   \n",
       "2       11803.431              1.1                304.195   \n",
       "3       13913.839              0.5                278.364   \n",
       "4             NaN              NaN                109.135   \n",
       "\n",
       "   diabetes_prevalence  female_smokers  male_smokers  handwashing_facilities  \\\n",
       "0                 9.59             NaN           NaN                  37.746   \n",
       "1                  NaN             NaN           NaN                     NaN   \n",
       "2                10.08             7.1          51.2                     NaN   \n",
       "3                 6.73             0.7          30.4                  83.741   \n",
       "4                 7.97            29.0          37.8                     NaN   \n",
       "\n",
       "   hospital_beds_per_thousand  life_expectancy  human_development_index  \n",
       "0                        0.50            64.83                    0.511  \n",
       "1                         NaN              NaN                      NaN  \n",
       "2                        2.89            78.57                    0.795  \n",
       "3                        1.90            76.88                    0.748  \n",
       "4                         NaN            83.73                    0.868  \n",
       "\n",
       "[5 rows x 59 columns]"
      ]
     },
     "execution_count": 79,
     "metadata": {},
     "output_type": "execute_result"
    }
   ],
   "source": [
    "# Have a look\n",
    "latest_data.head()"
   ]
  },
  {
   "cell_type": "markdown",
   "metadata": {},
   "source": [
    "Question: what is the continent of Germany?"
   ]
  },
  {
   "cell_type": "code",
   "execution_count": 80,
   "metadata": {},
   "outputs": [
    {
     "data": {
      "text/plain": [
       "72    Europe\n",
       "Name: continent, dtype: object"
      ]
     },
     "execution_count": 80,
     "metadata": {},
     "output_type": "execute_result"
    }
   ],
   "source": [
    "selected = latest_data.loc[ latest_data['location']==\"Germany\"] \n",
    "# this is an object containing the index of the row and the value, \n",
    "# we have to convert it to array and the the first element\n",
    "selected['continent']"
   ]
  },
  {
   "cell_type": "code",
   "execution_count": 81,
   "metadata": {},
   "outputs": [
    {
     "data": {
      "text/plain": [
       "array(['Europe'], dtype=object)"
      ]
     },
     "execution_count": 81,
     "metadata": {},
     "output_type": "execute_result"
    }
   ],
   "source": [
    "# the values of the row\n",
    "selected['continent'].values"
   ]
  },
  {
   "cell_type": "code",
   "execution_count": 83,
   "metadata": {},
   "outputs": [
    {
     "data": {
      "text/plain": [
       "'Europe'"
      ]
     },
     "execution_count": 83,
     "metadata": {},
     "output_type": "execute_result"
    }
   ],
   "source": [
    "# the first element of the array:\n",
    "selected['continent'].values[0]"
   ]
  },
  {
   "cell_type": "markdown",
   "metadata": {},
   "source": [
    "Let's write a function that give us the continent for any country"
   ]
  },
  {
   "cell_type": "code",
   "execution_count": 89,
   "metadata": {},
   "outputs": [],
   "source": [
    "# return a continent for a given country (string) and a given dataframe\n",
    "def get_continent(country, data):\n",
    "    selected = data.loc[ data['location']==country]\n",
    "    continent = selected['continent'].values[0]\n",
    "    return continent\n",
    "    \n",
    "# return the population (in Mio.) for a given country (string) and a given dataframe\n",
    "def get_population(country, data):\n",
    "    selected = data.loc[ data['location']==country]\n",
    "    result = selected['population'].values[0]/1e6\n",
    "    return result\n",
    "\n",
    "\n",
    "# we can actually be even more general: name tells us which property we need\n",
    "def get_property(country,data,name):\n",
    "    selected = data.loc[ data['location']==country]\n",
    "    result = selected[name].values[0]\n",
    "    return result"
   ]
  },
  {
   "cell_type": "markdown",
   "metadata": {},
   "source": [
    "Simple test:"
   ]
  },
  {
   "cell_type": "code",
   "execution_count": 90,
   "metadata": {},
   "outputs": [
    {
     "data": {
      "text/plain": [
       "'South America'"
      ]
     },
     "execution_count": 90,
     "metadata": {},
     "output_type": "execute_result"
    }
   ],
   "source": [
    "get_continent(country=\"Colombia\", data=latest_data)"
   ]
  },
  {
   "cell_type": "code",
   "execution_count": 91,
   "metadata": {},
   "outputs": [
    {
     "data": {
      "text/plain": [
       "50.882884"
      ]
     },
     "execution_count": 91,
     "metadata": {},
     "output_type": "execute_result"
    }
   ],
   "source": [
    "get_population(country=\"Colombia\", data=latest_data)"
   ]
  },
  {
   "cell_type": "code",
   "execution_count": 92,
   "metadata": {
    "scrolled": true
   },
   "outputs": [
    {
     "data": {
      "text/plain": [
       "77.29"
      ]
     },
     "execution_count": 92,
     "metadata": {},
     "output_type": "execute_result"
    }
   ],
   "source": [
    "get_property(country=\"Colombia\", data=latest_data,name=\"life_expectancy\")"
   ]
  },
  {
   "cell_type": "markdown",
   "metadata": {},
   "source": [
    "## Plotting some data\n",
    "\n",
    "We want now to plot the number of cases over time for a given country, e.g., Germany"
   ]
  },
  {
   "cell_type": "code",
   "execution_count": 94,
   "metadata": {},
   "outputs": [
    {
     "data": {
      "image/png": "[encoded data removed]",
      "text/plain": [
       "<Figure size 864x648 with 1 Axes>"
      ]
     },
     "metadata": {
      "needs_background": "light"
     },
     "output_type": "display_data"
    }
   ],
   "source": [
    "# select the data\n",
    "germany = full_data.loc[full_data[\"location\"]==\"Germany\"]\n",
    "\n",
    "# create a figure\n",
    "fig, ax = plt.subplots(figsize=(12,9))\n",
    "\n",
    "# we have to sample (if we show all data, the plot get very full)\n",
    "sampling = 10 #days\n",
    "\n",
    "# create a barplot\n",
    "plt.bar(germany['date'][0::sampling],germany['total_cases'][0::sampling]/1e6)\n",
    "\n",
    "# y-label\n",
    "plt.ylabel(\"Total cases\")\n",
    "# x-axis\n",
    "plt.xticks(np.arange(len(de['date'][0::sampling])),de['date'][0::sampling].values,rotation = -90)\n",
    "\n",
    "# some function to make it nicer\n",
    "plt.tight_layout()\n",
    "plt.show()\n",
    "\n",
    "\n",
    "        \n"
   ]
  },
  {
   "cell_type": "markdown",
   "metadata": {},
   "source": [
    "Let's now write it like a function\n",
    "\n"
   ]
  },
  {
   "cell_type": "code",
   "execution_count": 95,
   "metadata": {},
   "outputs": [],
   "source": [
    "# sampling = 10 will set the default, if the argument is not used\n",
    "def plot_data_of_country(country,data,sampling=10):\n",
    "    # select the data (df = short for 'dataframe')\n",
    "    df= data.loc[data[\"location\"]==country]\n",
    "\n",
    "    # create a figure\n",
    "    fig, ax = plt.subplots(figsize=(12,9))\n",
    "    # we have to sample (if we show all data, the plot get very full)\n",
    "    sampling = 10 #days\n",
    "    # create a barplot\n",
    "    plt.bar(df['date'][0::sampling],df['total_cases'][0::sampling]/1e6)\n",
    "    \n",
    "    # y-label\n",
    "    plt.ylabel(\"Total cases\")\n",
    "    # x-axis\n",
    "    plt.xticks(np.arange(len(df['date'][0::sampling])),df['date'][0::sampling].values,rotation = -90)\n",
    "\n",
    "    # some function to make it nicer\n",
    "    plt.tight_layout()\n",
    "    plt.show()"
   ]
  },
  {
   "cell_type": "markdown",
   "metadata": {},
   "source": [
    "Test"
   ]
  },
  {
   "cell_type": "code",
   "execution_count": 96,
   "metadata": {
    "scrolled": false
   },
   "outputs": [
    {
     "data": {
      "image/png": "[encoded data removed]",
      "text/plain": [
       "<Figure size 864x648 with 1 Axes>"
      ]
     },
     "metadata": {
      "needs_background": "light"
     },
     "output_type": "display_data"
    }
   ],
   "source": [
    "plot_data_of_country(\"Brazil\",data=full_data)"
   ]
  },
  {
   "cell_type": "markdown",
   "metadata": {},
   "source": [
    "## Incidence - Heatmap\n",
    "\n",
    "Now we try to create a heatmap showing the evolution of *incidence* (no. of cases per week/100000 people) over time, for \n",
    "different countries.\n",
    "We will use the `seaborn.heatmap` function. The documentation can be found [here](https://seaborn.pydata.org/generated/seaborn.heatmap.html)"
   ]
  },
  {
   "cell_type": "code",
   "execution_count": 104,
   "metadata": {},
   "outputs": [],
   "source": [
    "# first, create some empty list that we will fill\n",
    "all_data = []\n",
    "y_axis_labels = []\n",
    "\n",
    "# we will fix a number of days and plot the data only for these days (from today, backwards)\n",
    "# moreover, there are sometimes different number of data per country, so, we need to check this when putting\n",
    "# the data together\n",
    "start_date = 200\n",
    "\n",
    "# we can also decide - for better comparisons - to select only countries that have a certain population, or certain\n",
    "# life expectancy\n",
    "min_pop = 20\n",
    "min_life_exp = 77\n",
    "\n",
    "\n"
   ]
  },
  {
   "cell_type": "markdown",
   "metadata": {},
   "source": [
    "Idea:\n",
    "    \n",
    "- Loop over countries\n",
    "- get relevant data\n",
    "- compute population (and incidence), life expentancy (and, if needed any other property)\n",
    "- if the conditions are satisfied (e.g., population large enough, if we have enough data, ..) then add the data to the list"
   ]
  },
  {
   "cell_type": "code",
   "execution_count": 105,
   "metadata": {},
   "outputs": [
    {
     "data": {
      "image/png": "[encoded data removed]",
      "text/plain": [
       "<Figure size 720x1440 with 2 Axes>"
      ]
     },
     "metadata": {
      "needs_background": "light"
     },
     "output_type": "display_data"
    }
   ],
   "source": [
    "all_countries = np.unique(full_data['location'])\n",
    "for a in all_countries:\n",
    "\n",
    "    # compute cases and incidence (per Mio. people)\n",
    "    country_df =  full_data.loc[full_data['location']==a]\n",
    "    population = get_population(country=a,data=latest_data)\n",
    "    life_exp = get_property(country=a,data=latest_data,name=\"life_expectancy\")\n",
    "    \n",
    "    # compute incidence (per 100.000: we have to divide by 10 since population is in Millions.\n",
    "    incidence = country_df['weekly_cases'].values/population/10\n",
    " \n",
    "    if len(incidence)>start_date and life_exp>min_life_exp and population > min_pop:\n",
    "        all_data.append(incidence[-start_date:])\n",
    "        y_axis_labels.append(a)\n",
    "        \n",
    "data = np.array(all_data)\n",
    "fig, ax = plt.subplots(figsize=(10,20))\n",
    "ax = sns.heatmap(data, cbar_kws={\"orientation\": \"horizontal\"},\n",
    "                 yticklabels=y_axis_labels,cmap=\"Spectral\")\n",
    "    \n"
   ]
  },
  {
   "cell_type": "code",
   "execution_count": null,
   "metadata": {},
   "outputs": [],
   "source": []
  }
 ],
 "metadata": {
  "kernelspec": {
   "display_name": "Python 3",
   "language": "python",
   "name": "python3"
  },
  "language_info": {
   "codemirror_mode": {
    "name": "ipython",
    "version": 3
   },
   "file_extension": ".py",
   "mimetype": "text/x-python",
   "name": "python",
   "nbconvert_exporter": "python",
   "pygments_lexer": "ipython3",
   "version": "3.7.6"
  }
 },
 "nbformat": 4,
 "nbformat_minor": 4
}
