{
 "cells": [
  {
   "cell_type": "markdown",
   "metadata": {
    "id": "4HpqBHwGmNTv"
   },
   "source": [
    "### LDA example on 20newsgroups dataset"
   ]
  },
  {
   "cell_type": "code",
   "execution_count": 1,
   "metadata": {
    "colab": {
     "base_uri": "https://localhost:8080/"
    },
    "id": "wax1FicdmMaf",
    "outputId": "45816dfd-2739-41fa-8776-b99b9a817f14"
   },
   "outputs": [
    {
     "name": "stderr",
     "output_type": "stream",
     "text": [
      "[nltk_data] Downloading package stopwords to /Users/chaix/nltk_data...\n",
      "[nltk_data]   Package stopwords is already up-to-date!\n"
     ]
    },
    {
     "data": {
      "text/plain": [
       "True"
      ]
     },
     "execution_count": 1,
     "metadata": {},
     "output_type": "execute_result"
    }
   ],
   "source": [
    "import nltk; nltk.download('stopwords')"
   ]
  },
  {
   "cell_type": "code",
   "execution_count": 3,
   "metadata": {
    "id": "4TtRw4ecOqQB"
   },
   "outputs": [
    {
     "name": "stderr",
     "output_type": "stream",
     "text": [
      "/opt/anaconda3/lib/python3.8/site-packages/sklearn/decomposition/_lda.py:28: DeprecationWarning: `np.float` is a deprecated alias for the builtin `float`. To silence this warning, use `float` by itself. Doing this will not modify any behavior and is safe. If you specifically wanted the numpy scalar type, use `np.float64` here.\n",
      "Deprecated in NumPy 1.20; for more details and guidance: https://numpy.org/devdocs/release/1.20.0-notes.html#deprecations\n",
      "  EPS = np.finfo(np.float).eps\n"
     ]
    }
   ],
   "source": [
    "import re\n",
    "import numpy as np\n",
    "import pandas as pd\n",
    "from pprint import pprint\n",
    "\n",
    "# Gensim\n",
    "import gensim\n",
    "import gensim.corpora as corpora\n",
    "from gensim.utils import simple_preprocess\n",
    "from gensim.models import CoherenceModel\n",
    "\n",
    "# spacy for lemmatization\n",
    "import spacy\n",
    "\n",
    "# LDAvis\n",
    "import pyLDAvis\n",
    "import pyLDAvis.gensim  \n",
    "import matplotlib.pyplot as plt\n",
    "%matplotlib inline\n",
    "\n",
    "\n",
    "import warnings\n",
    "warnings.filterwarnings(\"ignore\",category=DeprecationWarning)"
   ]
  },
  {
   "cell_type": "code",
   "execution_count": 4,
   "metadata": {
    "id": "ayoXkd3QOvkX"
   },
   "outputs": [],
   "source": [
    "# NLTK Stop words\n",
    "from nltk.corpus import stopwords\n",
    "stop_words = stopwords.words('english')\n",
    "stop_words.extend(['from', 'subject', 're', 'edu', 'use'])"
   ]
  },
  {
   "cell_type": "code",
   "execution_count": 5,
   "metadata": {
    "colab": {
     "base_uri": "https://localhost:8080/",
     "height": 592
    },
    "id": "pAYU7j7FPCYV",
    "outputId": "d8cfa47e-7579-4734-d1d5-3f0213361f3d"
   },
   "outputs": [
    {
     "name": "stdout",
     "output_type": "stream",
     "text": [
      "['rec.autos' 'comp.sys.mac.hardware' 'comp.graphics' 'sci.space'\n",
      " 'talk.politics.guns' 'sci.med' 'comp.sys.ibm.pc.hardware'\n",
      " 'comp.os.ms-windows.misc' 'rec.motorcycles' 'talk.religion.misc'\n",
      " 'misc.forsale' 'alt.atheism' 'sci.electronics' 'comp.windows.x'\n",
      " 'rec.sport.hockey' 'rec.sport.baseball' 'soc.religion.christian'\n",
      " 'talk.politics.mideast' 'talk.politics.misc' 'sci.crypt']\n"
     ]
    },
    {
     "data": {
      "text/html": [
       "<div>\n",
       "<style scoped>\n",
       "    .dataframe tbody tr th:only-of-type {\n",
       "        vertical-align: middle;\n",
       "    }\n",
       "\n",
       "    .dataframe tbody tr th {\n",
       "        vertical-align: top;\n",
       "    }\n",
       "\n",
       "    .dataframe thead th {\n",
       "        text-align: right;\n",
       "    }\n",
       "</style>\n",
       "<table border=\"1\" class=\"dataframe\">\n",
       "  <thead>\n",
       "    <tr style=\"text-align: right;\">\n",
       "      <th></th>\n",
       "      <th>content</th>\n",
       "      <th>target</th>\n",
       "      <th>target_names</th>\n",
       "    </tr>\n",
       "  </thead>\n",
       "  <tbody>\n",
       "    <tr>\n",
       "      <th>0</th>\n",
       "      <td>From: lerxst@wam.umd.edu (where's my thing)\\nS...</td>\n",
       "      <td>7</td>\n",
       "      <td>rec.autos</td>\n",
       "    </tr>\n",
       "    <tr>\n",
       "      <th>1</th>\n",
       "      <td>From: guykuo@carson.u.washington.edu (Guy Kuo)...</td>\n",
       "      <td>4</td>\n",
       "      <td>comp.sys.mac.hardware</td>\n",
       "    </tr>\n",
       "    <tr>\n",
       "      <th>2</th>\n",
       "      <td>From: twillis@ec.ecn.purdue.edu (Thomas E Will...</td>\n",
       "      <td>4</td>\n",
       "      <td>comp.sys.mac.hardware</td>\n",
       "    </tr>\n",
       "    <tr>\n",
       "      <th>3</th>\n",
       "      <td>From: jgreen@amber (Joe Green)\\nSubject: Re: W...</td>\n",
       "      <td>1</td>\n",
       "      <td>comp.graphics</td>\n",
       "    </tr>\n",
       "    <tr>\n",
       "      <th>4</th>\n",
       "      <td>From: jcm@head-cfa.harvard.edu (Jonathan McDow...</td>\n",
       "      <td>14</td>\n",
       "      <td>sci.space</td>\n",
       "    </tr>\n",
       "    <tr>\n",
       "      <th>5</th>\n",
       "      <td>From: dfo@vttoulu.tko.vtt.fi (Foxvog Douglas)\\...</td>\n",
       "      <td>16</td>\n",
       "      <td>talk.politics.guns</td>\n",
       "    </tr>\n",
       "    <tr>\n",
       "      <th>6</th>\n",
       "      <td>From: bmdelane@quads.uchicago.edu (brian manni...</td>\n",
       "      <td>13</td>\n",
       "      <td>sci.med</td>\n",
       "    </tr>\n",
       "    <tr>\n",
       "      <th>7</th>\n",
       "      <td>From: bgrubb@dante.nmsu.edu (GRUBB)\\nSubject: ...</td>\n",
       "      <td>3</td>\n",
       "      <td>comp.sys.ibm.pc.hardware</td>\n",
       "    </tr>\n",
       "    <tr>\n",
       "      <th>8</th>\n",
       "      <td>From: holmes7000@iscsvax.uni.edu\\nSubject: WIn...</td>\n",
       "      <td>2</td>\n",
       "      <td>comp.os.ms-windows.misc</td>\n",
       "    </tr>\n",
       "    <tr>\n",
       "      <th>9</th>\n",
       "      <td>From: kerr@ux1.cso.uiuc.edu (Stan Kerr)\\nSubje...</td>\n",
       "      <td>4</td>\n",
       "      <td>comp.sys.mac.hardware</td>\n",
       "    </tr>\n",
       "    <tr>\n",
       "      <th>10</th>\n",
       "      <td>From: irwin@cmptrc.lonestar.org (Irwin Arnstei...</td>\n",
       "      <td>8</td>\n",
       "      <td>rec.motorcycles</td>\n",
       "    </tr>\n",
       "    <tr>\n",
       "      <th>11</th>\n",
       "      <td>From: david@terminus.ericsson.se (David Bold)\\...</td>\n",
       "      <td>19</td>\n",
       "      <td>talk.religion.misc</td>\n",
       "    </tr>\n",
       "    <tr>\n",
       "      <th>12</th>\n",
       "      <td>From: rodc@fc.hp.com (Rod Cerkoney)\\nSubject: ...</td>\n",
       "      <td>4</td>\n",
       "      <td>comp.sys.mac.hardware</td>\n",
       "    </tr>\n",
       "    <tr>\n",
       "      <th>13</th>\n",
       "      <td>From: dbm0000@tm0006.lerc.nasa.gov (David B. M...</td>\n",
       "      <td>14</td>\n",
       "      <td>sci.space</td>\n",
       "    </tr>\n",
       "    <tr>\n",
       "      <th>14</th>\n",
       "      <td>From: jllee@acsu.buffalo.edu (Johnny L Lee)\\nS...</td>\n",
       "      <td>6</td>\n",
       "      <td>misc.forsale</td>\n",
       "    </tr>\n",
       "  </tbody>\n",
       "</table>\n",
       "</div>"
      ],
      "text/plain": [
       "                                              content  target  \\\n",
       "0   From: lerxst@wam.umd.edu (where's my thing)\\nS...       7   \n",
       "1   From: guykuo@carson.u.washington.edu (Guy Kuo)...       4   \n",
       "2   From: twillis@ec.ecn.purdue.edu (Thomas E Will...       4   \n",
       "3   From: jgreen@amber (Joe Green)\\nSubject: Re: W...       1   \n",
       "4   From: jcm@head-cfa.harvard.edu (Jonathan McDow...      14   \n",
       "5   From: dfo@vttoulu.tko.vtt.fi (Foxvog Douglas)\\...      16   \n",
       "6   From: bmdelane@quads.uchicago.edu (brian manni...      13   \n",
       "7   From: bgrubb@dante.nmsu.edu (GRUBB)\\nSubject: ...       3   \n",
       "8   From: holmes7000@iscsvax.uni.edu\\nSubject: WIn...       2   \n",
       "9   From: kerr@ux1.cso.uiuc.edu (Stan Kerr)\\nSubje...       4   \n",
       "10  From: irwin@cmptrc.lonestar.org (Irwin Arnstei...       8   \n",
       "11  From: david@terminus.ericsson.se (David Bold)\\...      19   \n",
       "12  From: rodc@fc.hp.com (Rod Cerkoney)\\nSubject: ...       4   \n",
       "13  From: dbm0000@tm0006.lerc.nasa.gov (David B. M...      14   \n",
       "14  From: jllee@acsu.buffalo.edu (Johnny L Lee)\\nS...       6   \n",
       "\n",
       "                target_names  \n",
       "0                  rec.autos  \n",
       "1      comp.sys.mac.hardware  \n",
       "2      comp.sys.mac.hardware  \n",
       "3              comp.graphics  \n",
       "4                  sci.space  \n",
       "5         talk.politics.guns  \n",
       "6                    sci.med  \n",
       "7   comp.sys.ibm.pc.hardware  \n",
       "8    comp.os.ms-windows.misc  \n",
       "9      comp.sys.mac.hardware  \n",
       "10           rec.motorcycles  \n",
       "11        talk.religion.misc  \n",
       "12     comp.sys.mac.hardware  \n",
       "13                 sci.space  \n",
       "14              misc.forsale  "
      ]
     },
     "execution_count": 5,
     "metadata": {},
     "output_type": "execute_result"
    }
   ],
   "source": [
    "# Import Dataset\n",
    "df = pd.read_json('https://raw.githubusercontent.com/selva86/datasets/master/newsgroups.json')\n",
    "print(df.target_names.unique())\n",
    "df.head(15)"
   ]
  },
  {
   "cell_type": "markdown",
   "metadata": {
    "id": "oOXHR0GVkyYK"
   },
   "source": [
    "LDA is one the most popular topic modeling algs.\n",
    "\n",
    "It is based om the Bayes Probabilistic Theory and its theory is quite complex.\n",
    "\n",
    "Main assumptions:\n",
    "- every document is a mixture of some number of topics;\n",
    "- every word (kyeyword or token) is connected with some topis with certain probability;\n",
    "- topics in the document have Dirichlet distribution.\n",
    "\n",
    "There are two hyperparameters that control document and topic similarity, known as alpha and beta, respectively. A low value of alpha will assign fewer topics to each document whereas a high value of alpha will have the opposite effect. A low value of beta will use fewer words to model a topic whereas a high value will use more words, thus making topics more similar between them.\n",
    "\n",
    "(https://monkeylearn.com/blog/introduction-to-topic-modeling/#:~:text=Topic%20modeling%20is%20an%20unsupervised,characterize%20a%20set%20of%20documents.)"
   ]
  },
  {
   "cell_type": "code",
   "execution_count": 15,
   "metadata": {
    "colab": {
     "base_uri": "https://localhost:8080/"
    },
    "id": "4mpoIguTPSDt",
    "outputId": "b7ece276-2bfe-4ace-95f2-ac2c53c376e1"
   },
   "outputs": [
    {
     "name": "stdout",
     "output_type": "stream",
     "text": [
      "['From   wheres my thing  Subject  WHAT car is this   Nntp Posting Host  rac3 '\n",
      " 'wam umd edu Organization  University of Maryland  College Park Lines  15 I '\n",
      " 'was wondering if anyone out there could enlighten me on this car I saw the '\n",
      " 'other day  It was a 2 door sports car  looked to be from the late 60s  early '\n",
      " '70s  It was called a Bricklin  The doors were really small  In addition  the '\n",
      " 'front bumper was separate from the rest of the body  This is all I know  If '\n",
      " 'anyone can tellme a model name  engine specs  years of production  where '\n",
      " 'this car is made  history  or whatever info you have on this funky looking '\n",
      " 'car  please e mail  Thanks    IL      brought to you by your neighborhood '\n",
      " 'Lerxst      ']\n"
     ]
    }
   ],
   "source": [
    "# Convert to list\n",
    "data = df.content.values.tolist()\n",
    "\n",
    "# Remove Emails\n",
    "data = [re.sub('\\S*@\\S*\\s?', '', sent) for sent in data]\n",
    "\n",
    "# Remove new line characters\n",
    "data = [re.sub('\\s+', ' ', sent) for sent in data]\n",
    "\n",
    "# Remove single quotes\n",
    "data = [re.sub(\"\\'\", \"\", sent) for sent in data]\n",
    "\n",
    "data = [re.sub(r'[^\\w\\s]',' ', sent) for sent in data]\n",
    "data = [re.sub(r'[^a-zA-Z0-9]', ' ', sent) for sent in data]\n",
    "\n",
    "pprint(data[:1])"
   ]
  },
  {
   "cell_type": "code",
   "execution_count": 16,
   "metadata": {
    "colab": {
     "base_uri": "https://localhost:8080/"
    },
    "id": "HOMfSoyJS_QO",
    "outputId": "13780125-4c48-4646-d564-269104956215"
   },
   "outputs": [
    {
     "name": "stdout",
     "output_type": "stream",
     "text": [
      "['from', 'john', 'collins', 'subject', 'problem', 'with', 'mit', 'shm', 'organization', 'boston', 'university', 'lines', 'am', 'trying', 'to', 'write', 'an', 'image', 'display', 'program', 'that', 'uses', 'the', 'mit', 'shared', 'memory', 'extension', 'the', 'shared', 'memory', 'segment', 'gets', 'allocated', 'and', 'attached', 'to', 'the', 'process', 'with', 'no', 'problem', 'but', 'the', 'program', 'crashes', 'at', 'the', 'first', 'call', 'to', 'xshmputimage', 'with', 'the', 'following', 'message', 'error', 'of', 'failed', 'request', 'badshmseg', 'invalid', 'shared', 'segment', 'parameter', 'major', 'opcode', 'of', 'failed', 'request', 'mit', 'shm', 'minor', 'opcode', 'of', 'failed', 'request', 'shmputimage', 'segment', 'id', 'in', 'failed', 'request', 'serial', 'number', 'of', 'failed', 'request', 'current', 'serial', 'number', 'in', 'output', 'stream', 'like', 'said', 'did', 'error', 'checking', 'on', 'all', 'the', 'calls', 'to', 'shmget', 'and', 'shmat', 'that', 'are', 'necessary', 'to', 'create', 'the', 'shared', 'memory', 'segment', 'as', 'well', 'as', 'checking', 'xshmattach', 'there', 'are', 'no', 'problems', 'if', 'anybody', 'has', 'had', 'the', 'same', 'problem', 'or', 'has', 'used', 'mit', 'shm', 'without', 'having', 'the', 'same', 'problem', 'please', 'let', 'me', 'know', 'by', 'the', 'way', 'am', 'running', 'openwindows', 'on', 'sun', 'sparc', 'thanks', 'in', 'advance', 'john']\n",
      "11314\n"
     ]
    }
   ],
   "source": [
    "# tokenize\n",
    "def sent_to_words(sentences):\n",
    "    for sentence in sentences:\n",
    "        yield(gensim.utils.simple_preprocess(str(sentence), deacc=True))  # deacc=True removes punctuations\n",
    "\n",
    "data_words = list(sent_to_words(data))\n",
    "\n",
    "print(data_words[50])\n",
    "print(len(data_words))"
   ]
  },
  {
   "cell_type": "code",
   "execution_count": 17,
   "metadata": {
    "colab": {
     "base_uri": "https://localhost:8080/"
    },
    "id": "NzoZLnFmQLQF",
    "outputId": "4d6433c1-5ad1-4712-d833-dd7a0e353583"
   },
   "outputs": [
    {
     "name": "stdout",
     "output_type": "stream",
     "text": [
      "115\n",
      "122\n",
      "291\n",
      "102\n",
      "150\n",
      "349\n",
      "75\n",
      "401\n",
      "44\n",
      "226\n"
     ]
    }
   ],
   "source": [
    "for doc in range(10):\n",
    "  print(len(data_words[doc]))"
   ]
  },
  {
   "cell_type": "code",
   "execution_count": 20,
   "metadata": {
    "colab": {
     "base_uri": "https://localhost:8080/"
    },
    "id": "JLLS_JNEUFHn",
    "outputId": "616beff8-52c6-4ae2-e0a0-aab5779c5baf"
   },
   "outputs": [],
   "source": [
    "# Build the bigram and trigram models\n",
    "# Example: 'Educationnal system', 'Energy access'\n",
    "bigram = gensim.models.Phrases(data_words, min_count=5, threshold=120) # higher threshold =>> fewer number of bigrams.\n",
    "trigram = gensim.models.Phrases(bigram[data_words], threshold=120)  \n",
    "\n",
    "bigram_mod = gensim.models.phrases.Phraser(bigram)\n",
    "trigram_mod = gensim.models.phrases.Phraser(trigram)\n"
   ]
  },
  {
   "cell_type": "code",
   "execution_count": 29,
   "metadata": {},
   "outputs": [
    {
     "name": "stdout",
     "output_type": "stream",
     "text": [
      "['from', 'subject', 'win', 'icon', 'help', 'please', 'organization', 'university', 'of', 'northern_iowa', 'lines', 'have', 'win', 'and', 'downloaded', 'several', 'icons', 'and', 'bmps', 'but', 'cant', 'figure', 'out', 'how', 'to', 'change', 'the', 'wallpaper', 'or', 'use', 'the', 'icons', 'any', 'help', 'would', 'be', 'appreciated', 'thanx', 'brando', 'ps', 'please', 'mail', 'me']\n"
     ]
    }
   ],
   "source": [
    "# Trigram example\n",
    "print(trigram_mod[bigram_mod[data_words[8]]])"
   ]
  },
  {
   "cell_type": "code",
   "execution_count": 30,
   "metadata": {
    "id": "Jh-woupdXdVi"
   },
   "outputs": [],
   "source": [
    "# Define functions for stopwords, bigrams, trigrams and lemmatization\n",
    "def remove_stopwords(texts):\n",
    "    return [[word for word in simple_preprocess(str(doc)) if word not in stop_words] for doc in texts]\n",
    "\n",
    "def make_bigrams(texts):\n",
    "    return [bigram_mod[doc] for doc in texts]\n",
    "\n",
    "def make_trigrams(texts):\n",
    "    return [trigram_mod[bigram_mod[doc]] for doc in texts]\n",
    "\n",
    "def lemmatization(texts, allowed_postags=['NOUN', 'ADJ', 'VERB', 'ADV']):\n",
    "    \"\"\"https://spacy.io/api/annotation\"\"\"\n",
    "    texts_out = []\n",
    "    for sent in texts:\n",
    "        doc = nlp(\" \".join(sent)) \n",
    "        texts_out.append([token.lemma_ for token in doc if token.pos_ in allowed_postags])\n",
    "    return texts_out"
   ]
  },
  {
   "cell_type": "code",
   "execution_count": 31,
   "metadata": {
    "colab": {
     "base_uri": "https://localhost:8080/"
    },
    "id": "BTL5BpOLY3ln",
    "outputId": "c861ae53-b3d2-4fbe-f99d-707a138a8967"
   },
   "outputs": [
    {
     "name": "stdout",
     "output_type": "stream",
     "text": [
      "['foxvog_dougla', 'reword', 'vtt', 'line', 'article', 'tavare', 'write', 'article', 'write', 'article', 'tavare', 'write', 'article', 'write', 'massive', 'destructive', 'power', 'many', 'modern', 'weapon', 'make', 'cost', 'accidental', 'crimial', 'usage', 'weapon', 'great', 'weapon', 'mass_destruction', 'need', 'control', 'government', 'individual', 'access', 'would', 'result', 'needless', 'death', 'million', 'make', 'right', 'people', 'keep', 'bear', 'many', 'modern', 'weapon', 'thank', 'state', 'be', 'come', 'needless', 'say', 'disagree', 'count', 'believe', 'individual', 'right', 'weapon', 'mass_destruction', 'find', 'hard', 'believe', 'would', 'support', 'neighbor', 'right', 'keep', 'nuclear_weapon', 'biological', 'weapon', 'nerve_gas', 'property', 'can', 'even', 'agree', 'keep', 'weapon', 'mass_destruction', 'hand', 'individual', 'hope', 'sign', 'blank', 'check', 'course', 'term', 'must', 'rigidly', 'define', 'bill', 'say', 'weapon', 'mean', 'say', 'weapon', 'mean', 'sweeper', 'shotgun', 'rifle', 'doubt', 'use', 'term', 'use', 'allegedly', 'back', 'say', 'weapon', 'mass_destruction', 'immediately', 'follow', 'thousand', 'people', 'kill', 'year', 'handgun', 'number', 'easily', 'reduce', 'put', 'reasonable', 'restriction', 'mean', 'term', 'read', 'article', 'present', 'first', 'argument', 'weapon', 'commonly', 'understand', 'switching', 'topic', 'first', 'point', 'evidently', 'show', 'weapon', 'allow', 'later', 'analysis', 'give', 'understanding', 'consider', 'class', 'believe', 'speak', 'company', 'write', 'today', 'special_investor', 'packet']\n"
     ]
    }
   ],
   "source": [
    "# Remove Stop Words\n",
    "data_words_nostops = remove_stopwords(data_words)\n",
    "\n",
    "# Form Bigrams\n",
    "data_words_bigrams = make_bigrams(data_words_nostops)\n",
    "\n",
    "# Initialize spacy 'en' model, keeping only tagger component (for efficiency)\n",
    "# python3 -m spacy download en\n",
    "nlp = spacy.load('en', disable=['parser', 'ner'])\n",
    "\n",
    "# Do lemmatization keeping only noun, adj, vb, adv\n",
    "data_lemmatized = lemmatization(data_words_bigrams, allowed_postags=['NOUN', 'ADJ', 'VERB', 'ADV'])\n",
    "\n",
    "print(data_lemmatized[5])"
   ]
  },
  {
   "cell_type": "code",
   "execution_count": 33,
   "metadata": {
    "colab": {
     "base_uri": "https://localhost:8080/"
    },
    "id": "R3IEOI7qaOin",
    "outputId": "954d6d12-6381-4e7b-d556-1e308a3afbf9"
   },
   "outputs": [
    {
     "name": "stdout",
     "output_type": "stream",
     "text": [
      "[[(0, 1), (1, 1), (2, 1), (3, 1), (4, 5), (5, 1), (6, 1), (7, 2), (8, 1), (9, 1), (10, 1), (11, 1), (12, 1), (13, 1), (14, 1), (15, 1), (16, 1), (17, 1), (18, 1), (19, 2), (20, 1), (21, 1), (22, 1), (23, 1), (24, 1), (25, 1), (26, 1), (27, 1), (28, 1), (29, 1), (30, 1), (31, 1), (32, 1), (33, 1), (34, 1), (35, 1), (36, 1), (37, 1), (38, 1), (39, 1)]]\n"
     ]
    }
   ],
   "source": [
    "# Create Dictionary\n",
    "id2word = corpora.Dictionary(data_lemmatized)\n",
    "\n",
    "# Create Corpus\n",
    "texts = data_lemmatized\n",
    "\n",
    "# Term Document Frequency\n",
    "corpus = [id2word.doc2bow(text) for text in texts]\n",
    "\n",
    "# View\n",
    "print(corpus[:1])"
   ]
  },
  {
   "cell_type": "code",
   "execution_count": 34,
   "metadata": {
    "colab": {
     "base_uri": "https://localhost:8080/"
    },
    "id": "L1Must_7gbMS",
    "outputId": "03e96a7b-2af1-40a9-8d7d-bdc7202973d2"
   },
   "outputs": [
    {
     "data": {
      "text/plain": [
       "[[('addition', (0, 1)),\n",
       "  ('body', (1, 1)),\n",
       "  ('bring', (2, 1)),\n",
       "  ('call', (3, 1)),\n",
       "  ('car', (4, 5)),\n",
       "  ('could', (5, 1)),\n",
       "  ('day', (6, 1)),\n",
       "  ('door', (7, 2)),\n",
       "  ('early', (8, 1)),\n",
       "  ('engine', (9, 1)),\n",
       "  ('enlighten', (10, 1)),\n",
       "  ('funky', (11, 1)),\n",
       "  ('history', (12, 1)),\n",
       "  ('host', (13, 1)),\n",
       "  ('info', (14, 1)),\n",
       "  ('know', (15, 1)),\n",
       "  ('late', (16, 1)),\n",
       "  ('lerxst', (17, 1)),\n",
       "  ('line', (18, 1)),\n",
       "  ('look', (19, 2)),\n",
       "  ('mail', (20, 1)),\n",
       "  ('make', (21, 1)),\n",
       "  ('model', (22, 1)),\n",
       "  ('name', (23, 1)),\n",
       "  ('neighborhood', (24, 1)),\n",
       "  ('nntp_poste', (25, 1)),\n",
       "  ('park', (26, 1)),\n",
       "  ('production', (27, 1)),\n",
       "  ('really', (28, 1)),\n",
       "  ('rest', (29, 1)),\n",
       "  ('see', (30, 1)),\n",
       "  ('separate', (31, 1)),\n",
       "  ('small', (32, 1)),\n",
       "  ('spec', (33, 1)),\n",
       "  ('sport', (34, 1)),\n",
       "  ('thank', (35, 1)),\n",
       "  ('thing', (36, 1)),\n",
       "  ('where', (37, 1)),\n",
       "  ('wonder', (38, 1)),\n",
       "  ('year', (39, 1))]]"
      ]
     },
     "execution_count": 34,
     "metadata": {},
     "output_type": "execute_result"
    }
   ],
   "source": [
    "[[(id2word[id], freq) for id, freq in enumerate(cp)] for cp in corpus[:1]]"
   ]
  },
  {
   "cell_type": "code",
   "execution_count": 40,
   "metadata": {},
   "outputs": [],
   "source": [
    "def compute_coherence_values(dictionary, corpus, texts, limit, start=2, step=3):\n",
    "    \"\"\"\n",
    "    Compute c_v coherence for various number of topics\n",
    "\n",
    "    Parameters:\n",
    "    ----------\n",
    "    dictionary : Gensim dictionary\n",
    "    corpus : Gensim corpus\n",
    "    texts : List of input texts\n",
    "    limit : Max num of topics\n",
    "\n",
    "    Returns:\n",
    "    -------\n",
    "    model_list : List of LDA topic models\n",
    "    coherence_values : Coherence values corresponding to the LDA model with respective number of topics\n",
    "    \"\"\"\n",
    "    coherence_values = []\n",
    "    model_list = []\n",
    "    for num_topics in range(start, limit, step):\n",
    "        model = gensim.models.ldamodel.LdaModel(corpus=corpus,\n",
    "                                           id2word=id2word,\n",
    "                                           num_topics=num_topics, \n",
    "                                           random_state=100,\n",
    "                                           update_every=1,\n",
    "                                           chunksize=100,\n",
    "                                           passes=10,\n",
    "                                           alpha='auto',\n",
    "                                           per_word_topics=True)\n",
    "        model_list.append(model)\n",
    "        coherencemodel = CoherenceModel(model=model, texts=texts, dictionary=dictionary, coherence='c_v')\n",
    "        coherence_values.append(coherencemodel.get_coherence())\n",
    "\n",
    "    return model_list, coherence_values"
   ]
  },
  {
   "cell_type": "code",
   "execution_count": 41,
   "metadata": {},
   "outputs": [
    {
     "data": {
      "image/png": "[encoded data removed]",
      "text/plain": [
       "<Figure size 432x288 with 1 Axes>"
      ]
     },
     "metadata": {
      "needs_background": "light"
     },
     "output_type": "display_data"
    }
   ],
   "source": [
    "# Evaluete optimal num_topics. Long time to run.\n",
    "model_list, coherence_values = compute_coherence_values(dictionary=id2word, corpus=corpus, texts=data_lemmatized, start=2, limit=30, step=6)\n",
    "\n",
    "# Show graph\n",
    "limit=30; start=2; step=6;\n",
    "x = range(start, limit, step)\n",
    "plt.plot(x, coherence_values)\n",
    "plt.xlabel(\"Num Topics\")\n",
    "plt.ylabel(\"Coherence score\")\n",
    "plt.legend((\"coherence_values\"), loc='best')\n",
    "plt.show()"
   ]
  },
  {
   "cell_type": "code",
   "execution_count": 42,
   "metadata": {
    "id": "t9n4sZSch4B6"
   },
   "outputs": [],
   "source": [
    "lda_model = gensim.models.ldamodel.LdaModel(corpus=corpus,\n",
    "                                           id2word=id2word,\n",
    "                                           num_topics=2, \n",
    "                                           random_state=100,\n",
    "                                           update_every=1,\n",
    "                                           chunksize=100,\n",
    "                                           passes=10,\n",
    "                                           alpha='auto',\n",
    "                                           per_word_topics=True)"
   ]
  },
  {
   "cell_type": "code",
   "execution_count": 43,
   "metadata": {
    "colab": {
     "base_uri": "https://localhost:8080/"
    },
    "id": "U3GAI_PZm3Q0",
    "outputId": "d7c07fcb-8729-4635-e401-246777d71dcc"
   },
   "outputs": [
    {
     "name": "stdout",
     "output_type": "stream",
     "text": [
      "[(0,\n",
      "  '0.011*\"line\" + 0.010*\"write\" + 0.010*\"would\" + 0.007*\"say\" + 0.006*\"know\" + '\n",
      "  '0.006*\"people\" + 0.006*\"make\" + 0.006*\"article\" + 0.006*\"think\" + '\n",
      "  '0.006*\"be\"'),\n",
      " (1,\n",
      "  '0.107*\"ax\" + 0.012*\"drive\" + 0.010*\"line\" + 0.010*\"file\" + 0.009*\"use\" + '\n",
      "  '0.009*\"window\" + 0.008*\"program\" + 0.008*\"thank\" + 0.007*\"card\" + '\n",
      "  '0.007*\"system\"')]\n"
     ]
    }
   ],
   "source": [
    "# Print the Keyword in the 10 topics\n",
    "pprint(lda_model.print_topics())\n",
    "doc_lda = lda_model[corpus]"
   ]
  },
  {
   "cell_type": "code",
   "execution_count": 44,
   "metadata": {
    "colab": {
     "base_uri": "https://localhost:8080/"
    },
    "id": "HdnFMEgIpNp6",
    "outputId": "69d30fd9-a55c-4b5b-83c4-6aa88d1e6ed4"
   },
   "outputs": [
    {
     "name": "stdout",
     "output_type": "stream",
     "text": [
      "\n",
      "Perplexity:  -7.908765828185536\n",
      "\n",
      "Coherence Score:  0.5590286983659263\n"
     ]
    }
   ],
   "source": [
    "# Compute Perplexity\n",
    "print('\\nPerplexity: ', lda_model.log_perplexity(corpus))  # a measure of how good the model is. lower the better.\n",
    "\n",
    "# Compute Coherence Score\n",
    "coherence_model_lda = CoherenceModel(model=lda_model, texts=data_lemmatized, dictionary=id2word, coherence='c_v')\n",
    "coherence_lda = coherence_model_lda.get_coherence()\n",
    "print('\\nCoherence Score: ', coherence_lda)"
   ]
  },
  {
   "cell_type": "code",
   "execution_count": 45,
   "metadata": {
    "colab": {
     "base_uri": "https://localhost:8080/",
     "height": 861
    },
    "id": "bPAjAmttm3_6",
    "outputId": "23fa244e-d193-470d-e5a6-134e16e5079e"
   },
   "outputs": [
    {
     "data": {
      "text/html": [
       "\n",
       "<link rel=\"stylesheet\" type=\"text/css\" href=\"https://cdn.rawgit.com/bmabey/pyLDAvis/files/ldavis.v1.0.0.css\">\n",
       "\n",
       "\n",
       "<div id=\"ldavis_el2275659840128807403371496\"></div>\n",
       "<script type=\"text/javascript\">\n",
       "\n",
       "var ldavis_el2275659840128807403371496_data = {\"mdsDat\": {\"x\": [0.2066362202167511, -0.2066362202167511], \"y\": [0.0, 0.0], \"topics\": [1, 2], \"cluster\": [1, 1], \"Freq\": [83.40614891680804, 16.59385108319197]}, \"tinfo\": {\"Term\": [\"ax\", \"drive\", \"use\", \"file\", \"line\", \"thank\", \"system\", \"program\", \"window\", \"card\", \"problem\", \"need\", \"software\", \"driver\", \"run\", \"bit\", \"mail\", \"would\", \"machine\", \"include\", \"set\", \"work\", \"computer\", \"help\", \"chip\", \"color\", \"write\", \"memory\", \"disk\", \"entry\", \"would\", \"say\", \"people\", \"think\", \"article\", \"year\", \"make\", \"good\", \"take\", \"see\", \"thing\", \"well\", \"even\", \"believe\", \"time\", \"right\", \"reason\", \"evidence\", \"s\", \"many\", \"come\", \"point\", \"way\", \"first\", \"give\", \"state\", \"government\", \"really\", \"team\", \"mean\", \"write\", \"go\", \"could\", \"much\", \"may\", \"tell\", \"know\", \"be\", \"organization\", \"line\", \"get\", \"want\", \"also\", \"host\", \"nntp_poste\", \"ax\", \"scsi\", \"graphic\", \"pc\", \"motif\", \"printer\", \"ide\", \"processor\", \"interface\", \"cpu\", \"font\", \"disk\", \"output\", \"directory\", \"vlb\", \"telnet\", \"byte\", \"socket\", \"controller\", \"upgrade\", \"floppy\", \"widget\", \"cursor\", \"connector\", \"client\", \"binary\", \"shipping\", \"vga\", \"meg\", \"menu\", \"mouse\", \"keyboard\", \"busmastere\", \"localtalk\", \"workstation\", \"server\", \"screen\", \"window\", \"manual\", \"file\", \"software\", \"card\", \"color\", \"pin\", \"driver\", \"input\", \"drive\", \"format\", \"mode\", \"memory\", \"instal\", \"program\", \"machine\", \"video\", \"application\", \"thank\", \"entry\", \"display\", \"image\", \"use\", \"version\", \"system\", \"bit\", \"line\", \"problem\", \"run\", \"computer\", \"need\", \"mail\", \"chip\", \"set\", \"include\", \"work\", \"host\", \"help\"], \"Freq\": [20918.0, 3210.0, 4751.0, 2235.0, 12400.0, 2609.0, 3657.0, 2255.0, 1789.0, 1681.0, 3056.0, 3415.0, 1273.0, 1292.0, 2289.0, 1646.0, 1870.0, 9637.0, 1114.0, 1873.0, 1580.0, 3462.0, 1337.0, 2156.0, 1311.0, 906.0, 9968.0, 894.0, 781.0, 911.0, 9636.29645534379, 6583.508599433649, 5874.835890087513, 5596.585701527553, 5784.141741820933, 3506.6263273637305, 5869.308311348312, 4574.252649990748, 3412.999229312452, 4484.3856095219835, 3320.382306192849, 3814.127588996029, 2992.482623885387, 2557.2335597729866, 4579.480208371095, 2690.562516056371, 2653.428157278232, 2264.7148497847347, 2526.760975239597, 2947.6181812868203, 3442.6488096699563, 2736.8123870141776, 3045.5720927048933, 2539.2977682135884, 3025.1294441044884, 1864.701991329027, 1684.0730928318449, 2204.6204983313637, 1623.933829516244, 2012.186163479647, 9952.505146752756, 5453.669316542595, 3736.955330945547, 2686.741816060897, 5368.453959510053, 2417.866123820163, 6034.4166277706745, 5469.440447534117, 3363.3292174553017, 10363.498385576147, 4561.637660221098, 3203.0597552249515, 3854.981653074374, 3428.1260916610236, 3117.3900360532025, 20918.28679999504, 439.76549892375664, 671.976814889383, 501.6895899626865, 457.9003008228434, 373.17100152715693, 333.2407053766673, 355.33997787979877, 332.0360017924885, 390.6263107813544, 277.7223326973309, 780.3184495772513, 264.9623988082801, 291.91516104543115, 257.30689204446776, 339.53944934182977, 331.1651027687571, 267.12665159804965, 248.27854343904357, 316.4188060941592, 187.15818910264352, 177.29811854925214, 169.36783931078926, 165.9149385397694, 361.7208859812817, 140.47108902966292, 212.40887465163775, 125.33762532904703, 128.89301015527866, 131.36897866509375, 459.63320890579115, 304.8467937134171, 395.4394101408813, 213.69628665567873, 244.7391129241289, 579.4196296965218, 730.8915168691206, 1682.1124585600332, 334.27994676415983, 1975.886053080224, 1123.5437417067212, 1447.1726491997097, 809.9963261154447, 559.2597301665014, 1096.2364014206134, 561.2859617214804, 2425.9620965628374, 504.21365953050207, 497.833250355599, 754.5490731522278, 596.9121316594043, 1565.4398385545837, 881.0173454860569, 515.2862917617059, 658.2464914808686, 1560.6486919645733, 697.7533577143726, 562.0013770801238, 669.6451495535694, 1826.5511591633465, 622.7254589804224, 1418.8788857081381, 840.5656483810699, 2036.8478054604118, 1077.7175167689118, 906.2428012250438, 734.1011115577463, 984.8492281749895, 795.7096995703195, 710.90293058386, 744.5212385363384, 748.0489669551058, 781.8753726483726, 726.1141587955007, 685.0434752326801], \"Total\": [20918.0, 3210.0, 4751.0, 2235.0, 12400.0, 2609.0, 3657.0, 2255.0, 1789.0, 1681.0, 3056.0, 3415.0, 1273.0, 1292.0, 2289.0, 1646.0, 1870.0, 9637.0, 1114.0, 1873.0, 1580.0, 3462.0, 1337.0, 2156.0, 1311.0, 906.0, 9968.0, 894.0, 781.0, 911.0, 9637.287061400164, 6584.265908856374, 5875.572975089013, 5597.396103400186, 5785.029671320771, 3507.396436042705, 5870.637328885918, 4575.3301870052355, 3413.8293033498653, 4485.5311662991435, 3321.2723579024073, 3815.1859784627823, 2993.3204367772337, 2557.958602279656, 4580.8137020738695, 2691.3691267248287, 2654.229693725175, 2265.4055009066383, 2527.5454996366993, 2948.5889388886594, 3443.788607441784, 2737.7264772933813, 3046.7147244009557, 2540.2865032066993, 3026.3170775252192, 1865.4487942367705, 1684.7563500159768, 2205.536164056288, 1624.6218884700625, 2013.0587833217048, 9968.29154376231, 5458.779990171918, 3739.1388776301224, 2688.1421782390876, 5411.348939764251, 2418.923213260716, 6142.285824344321, 5629.622526903518, 3438.633861691741, 12400.346191036559, 4970.113205469977, 3387.300754632524, 4381.485311132423, 4154.240250456524, 3620.2181764712664, 20918.80233508817, 440.31573096182956, 672.8329032925794, 502.37695587528134, 458.5958291181962, 373.74700938481635, 333.8031234375388, 355.95126743516585, 332.62154803308687, 391.3804353559137, 278.2675919435516, 781.946108736737, 265.57711906905763, 292.6012989549521, 257.9262490284504, 340.3651444045669, 331.9987341276599, 267.82432704812226, 248.99106334960766, 317.3772376972908, 187.73452384522582, 177.85698440125904, 169.95103780186764, 166.49896089439758, 363.06441284742795, 141.05824425874252, 213.30028404774959, 125.87615685720785, 129.44852422624442, 131.94574409651193, 463.28525008448514, 306.74765542125647, 399.4757974133304, 214.66883648152324, 246.50335855251484, 594.1764812438962, 754.6197577962004, 1789.3871843680963, 340.2213688287282, 2235.166365851895, 1273.5738123014287, 1681.1073115889383, 906.7498853730414, 608.9865551019118, 1292.4071552826874, 611.4663294965812, 3210.629495449901, 543.1609286585807, 539.6498951880142, 894.909257892213, 676.4607287756317, 2255.3059905657556, 1114.2130852028956, 572.4932322348467, 786.9859171018394, 2609.4657215086736, 911.8459964170829, 670.1810512644793, 903.0222180644233, 4751.356394227413, 807.8781731943952, 3657.9536217396053, 1646.2298558132843, 12400.346191036559, 3056.193110033701, 2289.676344248911, 1337.2083177485997, 3415.3488080634866, 1870.8865725583437, 1311.916776637865, 1580.0232799820787, 1873.0446080952293, 3462.048885852917, 4154.240250456524, 2156.9584023870757], \"Category\": [\"Default\", \"Default\", \"Default\", \"Default\", \"Default\", \"Default\", \"Default\", \"Default\", \"Default\", \"Default\", \"Default\", \"Default\", \"Default\", \"Default\", \"Default\", \"Default\", \"Default\", \"Default\", \"Default\", \"Default\", \"Default\", \"Default\", \"Default\", \"Default\", \"Default\", \"Default\", \"Default\", \"Default\", \"Default\", \"Default\", \"Topic1\", \"Topic1\", \"Topic1\", \"Topic1\", \"Topic1\", \"Topic1\", \"Topic1\", \"Topic1\", \"Topic1\", \"Topic1\", \"Topic1\", \"Topic1\", \"Topic1\", \"Topic1\", \"Topic1\", \"Topic1\", \"Topic1\", \"Topic1\", \"Topic1\", \"Topic1\", \"Topic1\", \"Topic1\", \"Topic1\", \"Topic1\", \"Topic1\", \"Topic1\", \"Topic1\", \"Topic1\", \"Topic1\", \"Topic1\", \"Topic1\", \"Topic1\", \"Topic1\", \"Topic1\", \"Topic1\", \"Topic1\", \"Topic1\", \"Topic1\", \"Topic1\", \"Topic1\", \"Topic1\", \"Topic1\", \"Topic1\", \"Topic1\", \"Topic1\", \"Topic2\", \"Topic2\", \"Topic2\", \"Topic2\", \"Topic2\", \"Topic2\", \"Topic2\", \"Topic2\", \"Topic2\", \"Topic2\", \"Topic2\", \"Topic2\", \"Topic2\", \"Topic2\", \"Topic2\", \"Topic2\", \"Topic2\", \"Topic2\", \"Topic2\", \"Topic2\", \"Topic2\", \"Topic2\", \"Topic2\", \"Topic2\", \"Topic2\", \"Topic2\", \"Topic2\", \"Topic2\", \"Topic2\", \"Topic2\", \"Topic2\", \"Topic2\", \"Topic2\", \"Topic2\", \"Topic2\", \"Topic2\", \"Topic2\", \"Topic2\", \"Topic2\", \"Topic2\", \"Topic2\", \"Topic2\", \"Topic2\", \"Topic2\", \"Topic2\", \"Topic2\", \"Topic2\", \"Topic2\", \"Topic2\", \"Topic2\", \"Topic2\", \"Topic2\", \"Topic2\", \"Topic2\", \"Topic2\", \"Topic2\", \"Topic2\", \"Topic2\", \"Topic2\", \"Topic2\", \"Topic2\", \"Topic2\", \"Topic2\", \"Topic2\", \"Topic2\", \"Topic2\", \"Topic2\", \"Topic2\", \"Topic2\", \"Topic2\", \"Topic2\", \"Topic2\", \"Topic2\", \"Topic2\", \"Topic2\"], \"logprob\": [30.0, 29.0, 28.0, 27.0, 26.0, 25.0, 24.0, 23.0, 22.0, 21.0, 20.0, 19.0, 18.0, 17.0, 16.0, 15.0, 14.0, 13.0, 12.0, 11.0, 10.0, 9.0, 8.0, 7.0, 6.0, 5.0, 4.0, 3.0, 2.0, 1.0, -4.621200084686279, -5.002099990844727, -5.116000175476074, -5.1645002365112305, -5.1315999031066895, -5.631999969482422, -5.117000102996826, -5.366300106048584, -5.65910005569458, -5.386099815368652, -5.686600208282471, -5.547999858856201, -5.790599822998047, -5.947800159454346, -5.365099906921387, -5.896900177001953, -5.910799980163574, -6.069200038909912, -5.959799766540527, -5.805699825286865, -5.6504998207092285, -5.879899978637695, -5.7729997634887695, -5.954800128936768, -5.779699802398682, -6.263599872589111, -6.365499973297119, -6.096099853515625, -6.401800155639648, -6.1875, -4.588900089263916, -5.190400123596191, -5.568399906158447, -5.898399829864502, -5.206200122833252, -6.003799915313721, -5.089200019836426, -5.1875, -5.673799991607666, -4.548399925231934, -5.36899995803833, -5.722599983215332, -5.537300109863281, -5.654699802398682, -5.74970006942749, -2.2314000129699707, -6.093500137329102, -5.66949987411499, -5.9618000984191895, -6.053100109100342, -6.257699966430664, -6.3709001541137695, -6.306700229644775, -6.374499797821045, -6.211999893188477, -6.553100109100342, -5.520100116729736, -6.600200176239014, -6.503300189971924, -6.629499912261963, -6.352200031280518, -6.377099990844727, -6.5920000076293945, -6.665200233459473, -6.422699928283691, -6.947800159454346, -7.0019001960754395, -7.047699928283691, -7.068299770355225, -6.288899898529053, -7.234799861907959, -6.821199893951416, -7.348800182342529, -7.320799827575684, -7.301799774169922, -6.049300193786621, -6.460000038146973, -6.19980001449585, -6.815199851989746, -6.679599761962891, -5.817699909210205, -5.5854997634887695, -4.751999855041504, -6.367800235748291, -4.591000080108643, -5.1554999351501465, -4.902400016784668, -5.482699871063232, -5.853099822998047, -5.180099964141846, -5.8495001792907715, -4.385799884796143, -5.9567999839782715, -5.9695000648498535, -5.553599834442139, -5.788000106811523, -4.823800086975098, -5.39870023727417, -5.934999942779541, -5.690199851989746, -4.826900005340576, -5.631899833679199, -5.848299980163574, -5.672999858856201, -4.669600009918213, -5.745699882507324, -4.922100067138672, -5.445700168609619, -4.5605998039245605, -5.197199821472168, -5.370500087738037, -5.581099987030029, -5.287300109863281, -5.500500202178955, -5.6132001876831055, -5.566999912261963, -5.562300205230713, -5.518099784851074, -5.592100143432617, -5.650300025939941], \"loglift\": [30.0, 29.0, 28.0, 27.0, 26.0, 25.0, 24.0, 23.0, 22.0, 21.0, 20.0, 19.0, 18.0, 17.0, 16.0, 15.0, 14.0, 13.0, 12.0, 11.0, 10.0, 9.0, 8.0, 7.0, 6.0, 5.0, 4.0, 3.0, 2.0, 1.0, 0.1813, 0.1813, 0.1813, 0.1813, 0.1813, 0.1812, 0.1812, 0.1812, 0.1812, 0.1812, 0.1812, 0.1812, 0.1812, 0.1812, 0.1812, 0.1811, 0.1811, 0.1811, 0.1811, 0.1811, 0.1811, 0.1811, 0.1811, 0.1811, 0.1811, 0.181, 0.181, 0.181, 0.181, 0.181, 0.1799, 0.1805, 0.1809, 0.1809, 0.1735, 0.181, 0.1637, 0.1526, 0.1593, 0.002, 0.0957, 0.1255, 0.0534, -0.0107, 0.0319, 1.7961, 1.7949, 1.7949, 1.7948, 1.7946, 1.7946, 1.7945, 1.7944, 1.7944, 1.7942, 1.7942, 1.7941, 1.7938, 1.7938, 1.7937, 1.7937, 1.7936, 1.7935, 1.7933, 1.7931, 1.7931, 1.793, 1.7927, 1.7926, 1.7924, 1.792, 1.792, 1.7919, 1.7918, 1.7918, 1.7882, 1.7899, 1.786, 1.7916, 1.789, 1.771, 1.7642, 1.7343, 1.7785, 1.6728, 1.6708, 1.6463, 1.6833, 1.711, 1.6315, 1.7105, 1.5159, 1.7217, 1.7155, 1.6255, 1.671, 1.431, 1.5613, 1.6909, 1.6175, 1.2821, 1.5285, 1.6201, 1.4971, 0.8401, 1.5358, 0.8491, 1.124, -0.0102, 0.7538, 0.8693, 1.1964, 0.5526, 0.9412, 1.1834, 1.0437, 0.8783, 0.3082, 0.052, 0.6492]}, \"token.table\": {\"Topic\": [1, 2, 1, 2, 1, 2, 1, 2, 1, 2, 1, 2, 1, 2, 1, 2, 1, 2, 1, 2, 1, 2, 1, 2, 1, 2, 1, 2, 1, 2, 1, 2, 1, 2, 1, 2, 1, 2, 1, 2, 1, 2, 1, 2, 1, 2, 1, 2, 1, 2, 1, 2, 1, 2, 1, 2, 1, 2, 1, 2, 1, 2, 1, 2, 1, 2, 1, 2, 1, 2, 1, 2, 1, 2, 1, 2, 1, 2, 1, 2, 1, 2, 1, 2, 1, 2, 1, 2, 1, 2, 1, 2, 1, 2, 1, 2, 1, 2, 1, 2, 1, 2, 1, 2, 1, 2, 1, 2, 1, 2, 1, 2, 1, 2, 1, 2, 1, 2, 1, 2, 1, 2, 1, 2, 1, 2, 1, 2, 1, 2, 1, 2, 1, 2, 1, 2, 1, 2, 1, 2, 1, 2, 1, 2, 1, 2, 1, 2, 1, 2, 1, 2, 1, 2, 1, 2, 1, 2, 1, 2, 1, 2, 1, 2, 1, 2, 1, 2, 1, 2, 1, 2, 1, 2, 1, 2, 1, 2, 1, 2, 1, 2, 1, 2, 1, 2, 1, 2, 1, 2, 1, 2, 1, 2, 1, 2, 1, 2, 1, 2, 1, 2, 1, 2, 1, 2, 1, 2, 1, 2, 1, 2, 1, 2, 1, 2, 1, 2, 1, 2, 1, 2, 1, 2, 1, 2, 1, 2, 1, 2, 1, 2, 1, 2, 1, 2], \"Freq\": [0.8798386223514808, 0.12027884668721929, 0.16391652912298155, 0.8361013656040455, 0.9998220110562482, 0.00017285996041774694, 4.780388398826491e-05, 0.9999616452665254, 0.9714683309341052, 0.028421088489569726, 0.9996252471487217, 0.00039093674116101747, 0.0070892701469167894, 0.9924978205683506, 0.4896035612243304, 0.5108642617737741, 0.010013122261475261, 0.988795823320682, 0.0030120596773585313, 0.9969917532056739, 0.13919396958593283, 0.8607421965420718, 0.45810832722196143, 0.5419551092426199, 0.0027543321917927388, 0.9970682534289714, 0.10697547533749477, 0.893300361065678, 0.9997710058509167, 0.0002903778698376174, 0.4509394624580598, 0.5489047519804575, 0.006006043488969596, 0.997003219168953, 0.004016208399399069, 0.9960196830509691, 0.9994279758789066, 0.0005348825131811114, 0.0025550587348358886, 0.9990279653208324, 0.005884047622973743, 0.9944040482825626, 0.003417619824558457, 0.9979449887710695, 0.002557721021505017, 0.9975111983869567, 0.16115048283777728, 0.8385793643965818, 0.24450033898726115, 0.7556150603606313, 0.15165499447976133, 0.8480299691317266, 0.23468875318954116, 0.7654801389079426, 0.9995588722273064, 0.0003340771631775757, 0.9998210029478273, 0.00044142207635665664, 0.11587504355689722, 0.8840505253607294, 0.9994935597992293, 0.00039365638432423367, 0.005326670766344666, 0.9960874333064526, 0.0035936631823186094, 0.9990383646845734, 0.07180192451676612, 0.9279017937551314, 0.917886537268242, 0.08209068549001375, 0.9995647919595073, 0.00033043464197008506, 0.9991243482645346, 0.0009159555814673034, 0.9997092697246172, 0.00021856346080555687, 0.9995510626708903, 0.0005935576381656118, 0.0014862531173882752, 0.9987620948849208, 0.6824424608147094, 0.31757682449597546, 0.825180970124028, 0.17476119728997794, 0.002995777839649604, 0.9975940206033181, 0.2580224443418704, 0.7419529515410006, 0.6006263786445831, 0.39934980553435395, 0.08177065128208266, 0.9174667073849675, 0.11826259322517801, 0.8825346019428909, 0.003006419776209228, 0.9981313657014637, 0.006520017234535666, 0.994302628266689, 0.9823704354631071, 0.01758303066457003, 0.8357024747817743, 0.16426960736567348, 0.004658338007464213, 0.9968843335973416, 0.20911619428484027, 0.7906925629396749, 0.574593893487616, 0.42546673415455105, 0.9997210986143087, 0.0001703392568775445, 0.01763557656785655, 0.981713762277348, 0.9998002641599539, 0.0003391452727815312, 0.9919892543898418, 0.00794626265625246, 0.9994740425215215, 0.0004967564823665614, 0.007725078412267135, 0.9965351151824604, 0.1564404421625307, 0.8436609559479333, 0.007578872716565594, 0.9928323258700927, 0.07782823711170589, 0.9228205257530842, 0.0021805693303465806, 0.9987007532987339, 0.008633989532950933, 0.9929087962893572, 0.9995751049746052, 0.00037200413285247685, 0.7114939458783472, 0.2884039245638568, 0.8609978316384876, 0.1389419022502917, 0.9780046772253529, 0.021810987449271922, 0.00376538462163215, 0.9978269247325198, 0.001990537161995657, 0.9992496553218199, 0.9999024818359942, 0.00017019616712102026, 0.08210361884201643, 0.9179184586537437, 0.9997346421202385, 0.0003652665846255895, 0.0026756066935384702, 0.9980012966898493, 0.6472104113794656, 0.3527264021572618, 0.0028093733369895734, 0.9973275346312986, 0.305945181224349, 0.693919142921893, 0.9997569008094151, 0.00045340449016300006, 0.9995367041036117, 0.0003767571444039245, 0.9998628479753434, 0.00037155810032528554, 0.6040154991659615, 0.3956891122518881, 0.9997841781139933, 0.00039564075113335706, 0.9999596145022004, 0.00015187721969960516, 0.031804097033040664, 0.9686997887980302, 0.0022710976003868662, 0.999282944170221, 0.9996586432593206, 0.000222939037301365, 0.025245024792293715, 0.9744579569825373, 0.529106128113177, 0.4715120400051638, 0.004688226293107697, 0.9939039741388319, 0.0037337907688285597, 0.9969221352772254, 0.11777880367133216, 0.8825558355105156, 0.9997594175524105, 0.0005360640308592013, 0.6120908659676236, 0.3879218127771585, 0.999757075332076, 0.00029292618673661764, 0.9996172103340007, 0.0006155278388756163, 0.9996183370949294, 0.00041340708730145965, 0.002938021170614856, 0.9989271980090509, 0.4019979995726927, 0.5982067467425866, 0.9996169064848356, 0.00030108942966410707, 0.999929234345244, 0.0001786544996150159, 0.9996040655237631, 0.00021830182693246628, 0.003150824574740875, 0.9956605656181166, 0.6156136810856124, 0.38452177618578254, 0.22899492292074153, 0.7711558755655241, 0.007944316262645244, 0.9930395328306556, 0.09956449577139737, 0.8995739530222744, 0.0038770772799076206, 0.9964088609362585, 0.9455906729331691, 0.05432053818910494, 0.9997654114462271, 0.0003282223937774876, 0.9996891426867583, 0.00026211042021152554, 0.005622494969013548, 0.9951816095153979, 0.05979700812364203, 0.9399866136819243, 0.7741080754091518, 0.22587780409326744, 0.008113479717859187, 0.9939012654377504, 0.999866449822241, 0.00010376364153406403, 0.998465981487883, 0.0016050894909882577, 0.9998869714188476, 0.0002851117682973617], \"Term\": [\"also\", \"also\", \"application\", \"application\", \"article\", \"article\", \"ax\", \"ax\", \"be\", \"be\", \"believe\", \"believe\", \"binary\", \"binary\", \"bit\", \"bit\", \"busmastere\", \"busmastere\", \"byte\", \"byte\", \"card\", \"card\", \"chip\", \"chip\", \"client\", \"client\", \"color\", \"color\", \"come\", \"come\", \"computer\", \"computer\", \"connector\", \"connector\", \"controller\", \"controller\", \"could\", \"could\", \"cpu\", \"cpu\", \"cursor\", \"cursor\", \"directory\", \"directory\", \"disk\", \"disk\", \"display\", \"display\", \"drive\", \"drive\", \"driver\", \"driver\", \"entry\", \"entry\", \"even\", \"even\", \"evidence\", \"evidence\", \"file\", \"file\", \"first\", \"first\", \"floppy\", \"floppy\", \"font\", \"font\", \"format\", \"format\", \"get\", \"get\", \"give\", \"give\", \"go\", \"go\", \"good\", \"good\", \"government\", \"government\", \"graphic\", \"graphic\", \"help\", \"help\", \"host\", \"host\", \"ide\", \"ide\", \"image\", \"image\", \"include\", \"include\", \"input\", \"input\", \"instal\", \"instal\", \"interface\", \"interface\", \"keyboard\", \"keyboard\", \"know\", \"know\", \"line\", \"line\", \"localtalk\", \"localtalk\", \"machine\", \"machine\", \"mail\", \"mail\", \"make\", \"make\", \"manual\", \"manual\", \"many\", \"many\", \"may\", \"may\", \"mean\", \"mean\", \"meg\", \"meg\", \"memory\", \"memory\", \"menu\", \"menu\", \"mode\", \"mode\", \"motif\", \"motif\", \"mouse\", \"mouse\", \"much\", \"much\", \"need\", \"need\", \"nntp_poste\", \"nntp_poste\", \"organization\", \"organization\", \"output\", \"output\", \"pc\", \"pc\", \"people\", \"people\", \"pin\", \"pin\", \"point\", \"point\", \"printer\", \"printer\", \"problem\", \"problem\", \"processor\", \"processor\", \"program\", \"program\", \"really\", \"really\", \"reason\", \"reason\", \"right\", \"right\", \"run\", \"run\", \"s\", \"s\", \"say\", \"say\", \"screen\", \"screen\", \"scsi\", \"scsi\", \"see\", \"see\", \"server\", \"server\", \"set\", \"set\", \"shipping\", \"shipping\", \"socket\", \"socket\", \"software\", \"software\", \"state\", \"state\", \"system\", \"system\", \"take\", \"take\", \"team\", \"team\", \"tell\", \"tell\", \"telnet\", \"telnet\", \"thank\", \"thank\", \"thing\", \"thing\", \"think\", \"think\", \"time\", \"time\", \"upgrade\", \"upgrade\", \"use\", \"use\", \"version\", \"version\", \"vga\", \"vga\", \"video\", \"video\", \"vlb\", \"vlb\", \"want\", \"want\", \"way\", \"way\", \"well\", \"well\", \"widget\", \"widget\", \"window\", \"window\", \"work\", \"work\", \"workstation\", \"workstation\", \"would\", \"would\", \"write\", \"write\", \"year\", \"year\"]}, \"R\": 30, \"lambda.step\": 0.01, \"plot.opts\": {\"xlab\": \"PC1\", \"ylab\": \"PC2\"}, \"topic.order\": [1, 2]};\n",
       "\n",
       "function LDAvis_load_lib(url, callback){\n",
       "  var s = document.createElement('script');\n",
       "  s.src = url;\n",
       "  s.async = true;\n",
       "  s.onreadystatechange = s.onload = callback;\n",
       "  s.onerror = function(){console.warn(\"failed to load library \" + url);};\n",
       "  document.getElementsByTagName(\"head\")[0].appendChild(s);\n",
       "}\n",
       "\n",
       "if(typeof(LDAvis) !== \"undefined\"){\n",
       "   // already loaded: just create the visualization\n",
       "   !function(LDAvis){\n",
       "       new LDAvis(\"#\" + \"ldavis_el2275659840128807403371496\", ldavis_el2275659840128807403371496_data);\n",
       "   }(LDAvis);\n",
       "}else if(typeof define === \"function\" && define.amd){\n",
       "   // require.js is available: use it to load d3/LDAvis\n",
       "   require.config({paths: {d3: \"https://cdnjs.cloudflare.com/ajax/libs/d3/3.5.5/d3.min\"}});\n",
       "   require([\"d3\"], function(d3){\n",
       "      window.d3 = d3;\n",
       "      LDAvis_load_lib(\"https://cdn.rawgit.com/bmabey/pyLDAvis/files/ldavis.v1.0.0.js\", function(){\n",
       "        new LDAvis(\"#\" + \"ldavis_el2275659840128807403371496\", ldavis_el2275659840128807403371496_data);\n",
       "      });\n",
       "    });\n",
       "}else{\n",
       "    // require.js not available: dynamically load d3 & LDAvis\n",
       "    LDAvis_load_lib(\"https://cdnjs.cloudflare.com/ajax/libs/d3/3.5.5/d3.min.js\", function(){\n",
       "         LDAvis_load_lib(\"https://cdn.rawgit.com/bmabey/pyLDAvis/files/ldavis.v1.0.0.js\", function(){\n",
       "                 new LDAvis(\"#\" + \"ldavis_el2275659840128807403371496\", ldavis_el2275659840128807403371496_data);\n",
       "            })\n",
       "         });\n",
       "}\n",
       "</script>"
      ],
      "text/plain": [
       "PreparedData(topic_coordinates=              x    y  topics  cluster       Freq\n",
       "topic                                           \n",
       "0      0.206636  0.0       1        1  83.406149\n",
       "1     -0.206636  0.0       2        1  16.593851, topic_info=         Term          Freq         Total Category  logprob  loglift\n",
       "3710       ax  20918.000000  20918.000000  Default  30.0000  30.0000\n",
       "354     drive   3210.000000   3210.000000  Default  29.0000  29.0000\n",
       "169       use   4751.000000   4751.000000  Default  28.0000  28.0000\n",
       "331      file   2235.000000   2235.000000  Default  27.0000  27.0000\n",
       "18       line  12400.000000  12400.000000  Default  26.0000  26.0000\n",
       "...       ...           ...           ...      ...      ...      ...\n",
       "223       set    744.521239   1580.023280   Topic2  -5.5670   1.0437\n",
       "742   include    748.048967   1873.044608   Topic2  -5.5623   0.8783\n",
       "442      work    781.875373   3462.048886   Topic2  -5.5181   0.3082\n",
       "13       host    726.114159   4154.240250   Topic2  -5.5921   0.0520\n",
       "401      help    685.043475   2156.958402   Topic2  -5.6503   0.6492\n",
       "\n",
       "[150 rows x 6 columns], token_table=      Topic      Freq         Term\n",
       "term                              \n",
       "406       1  0.879839         also\n",
       "406       2  0.120279         also\n",
       "817       1  0.163917  application\n",
       "817       2  0.836101  application\n",
       "175       1  0.999822      article\n",
       "...     ...       ...          ...\n",
       "325       2  0.000104        would\n",
       "197       1  0.998466        write\n",
       "197       2  0.001605        write\n",
       "39        1  0.999887         year\n",
       "39        2  0.000285         year\n",
       "\n",
       "[236 rows x 3 columns], R=30, lambda_step=0.01, plot_opts={'xlab': 'PC1', 'ylab': 'PC2'}, topic_order=[1, 2])"
      ]
     },
     "execution_count": 45,
     "metadata": {},
     "output_type": "execute_result"
    }
   ],
   "source": [
    "# Visualize the topics\n",
    "pyLDAvis.enable_notebook()\n",
    "vis = pyLDAvis.gensim.prepare(lda_model, corpus, id2word)\n",
    "vis"
   ]
  },
  {
   "cell_type": "code",
   "execution_count": 46,
   "metadata": {
    "id": "ctx8VzJziLuy"
   },
   "outputs": [
    {
     "name": "stdout",
     "output_type": "stream",
     "text": [
      "\n",
      "Perplexity:  -7.908765356950655\n",
      "\n",
      "Coherence Score:  0.5590286983659263\n"
     ]
    }
   ],
   "source": [
    "# Compute Perplexity\n",
    "print('\\nPerplexity: ', lda_model.log_perplexity(corpus))  # a measure of how good the model is. The lower the better.\n",
    "\n",
    "# Compute Coherence Score\n",
    "coherence_model_lda = CoherenceModel(model=lda_model, texts=data_lemmatized, dictionary=id2word, coherence='c_v')\n",
    "coherence_lda = coherence_model_lda.get_coherence()\n",
    "print('\\nCoherence Score: ', coherence_lda)"
   ]
  }
 ],
 "metadata": {
  "colab": {
   "collapsed_sections": [],
   "name": "NLP - Topic modeling - Gensim.ipynb",
   "provenance": []
  },
  "kernelspec": {
   "display_name": "Python 3",
   "language": "python",
   "name": "python3"
  },
  "language_info": {
   "codemirror_mode": {
    "name": "ipython",
    "version": 3
   },
   "file_extension": ".py",
   "mimetype": "text/x-python",
   "name": "python",
   "nbconvert_exporter": "python",
   "pygments_lexer": "ipython3",
   "version": "3.8.3"
  }
 },
 "nbformat": 4,
 "nbformat_minor": 1
}
